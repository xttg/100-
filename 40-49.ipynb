{
 "cells": [
  {
   "cell_type": "markdown",
   "metadata": {},
   "source": [
    "# 5章\n",
    "(https://nlp100.github.io/ja/ch05.html)"
   ]
  },
  {
   "cell_type": "code",
   "execution_count": 4,
   "metadata": {},
   "outputs": [
    {
     "data": {
      "text/plain": "True"
     },
     "execution_count": 4,
     "metadata": {},
     "output_type": "execute_result"
    }
   ],
   "source": [
    "from pathlib import Path\n",
    "\n",
    "file_path = Path('Dataset/ai.ja.txt.parsed')\n",
    "file_path.exists()"
   ]
  },
  {
   "cell_type": "markdown",
   "metadata": {},
   "source": [
    "## 5.40, 41"
   ]
  },
  {
   "cell_type": "code",
   "execution_count": 2,
   "metadata": {},
   "outputs": [],
   "source": [
    "class Morph(object):\n",
    "\n",
    "    def __init__(\n",
    "        self, surface: str, base: str, pos: str, pos1: str\n",
    "    ) -> None:\n",
    "        self.surface = surface\n",
    "        self.base = base\n",
    "        self.pos = pos\n",
    "        self.pos1 = pos1\n",
    "    \n",
    "    def __repr__(self) -> str:\n",
    "        return f'{self.surface} [{self.base},{self.pos},{self.pos1}]'"
   ]
  },
  {
   "cell_type": "code",
   "execution_count": 3,
   "metadata": {},
   "outputs": [],
   "source": [
    "class Chunk(object):\n",
    "\n",
    "    def __init__(self, id_: int, morphemes: list, dst: int) -> None:\n",
    "        self.cid = id_\n",
    "        self.morphs = morphemes\n",
    "        self.dst = dst\n",
    "        self.srcs = []\n",
    "\n",
    "    def __repr__(self) -> str:\n",
    "        return '\"{}\" dst:{}, srcs:{}'.format(\n",
    "            ' '.join((m.surface for m in self.morphs)), self.dst, self.srcs\n",
    "        )\n"
   ]
  },
  {
   "cell_type": "code",
   "execution_count": 4,
   "metadata": {},
   "outputs": [],
   "source": [
    "with file_path.open('r') as fp:\n",
    "    sentences_raw = fp.read().split('EOS\\n')\n",
    "\n",
    "sentences_raw = [s for s in sentences_raw if s]"
   ]
  },
  {
   "cell_type": "code",
   "execution_count": 5,
   "metadata": {},
   "outputs": [],
   "source": [
    "from collections import defaultdict\n",
    "import re\n",
    "\n",
    "pattern = re.compile(r'\\n\\*\\s')\n",
    "sentences_chunked = list(map(lambda x: pattern.split(x[2:]), sentences_raw))\n",
    "\n",
    "sentences_morph = []\n",
    "sentences_chunk = []\n",
    "\n",
    "def parse_morph(line: str) -> Morph:\n",
    "    surface, attr = line.split('\\t')\n",
    "    attr = attr.split(',')\n",
    "    return Morph(surface, attr[6], attr[0], attr[1])\n",
    "\n",
    "for sent_chunked in sentences_chunked[:2]:\n",
    "    sent_morphs = []\n",
    "    sent_chunks = []\n",
    "    id2srcs = defaultdict(list)  # key: chunk id, value: srcsのリスト\n",
    "\n",
    "    for chunk in sent_chunked:\n",
    "        chunk = chunk.split('\\n')\n",
    "        morphs = [c for c in chunk[1:] if c]\n",
    "        morphs = list(map(parse_morph, morphs))\n",
    "        sent_morphs += morphs\n",
    "\n",
    "        info = chunk[0].split()\n",
    "        cid, dst = int(info[0]), int(info[1].rstrip('D'))\n",
    "        id2srcs[dst].append(cid)\n",
    "        sent_chunks.append(Chunk(cid, morphs, dst))\n",
    "\n",
    "    for cid, srcs in id2srcs.items():\n",
    "        sent_chunks[cid].srcs = srcs\n",
    "\n",
    "    sentences_morph.append(sent_morphs)\n",
    "    sentences_chunk.append(sent_chunks)\n"
   ]
  },
  {
   "cell_type": "code",
   "execution_count": 6,
   "metadata": {},
   "outputs": [
    {
     "name": "stdout",
     "output_type": "stream",
     "text": [
      "人工 [人工,名詞,一般]\n",
      "知能 [知能,名詞,一般]\n",
      "（ [（,記号,括弧開]\n",
      "じん [じん,名詞,一般]\n",
      "こうち [こうち,名詞,一般]\n",
      "のう [のう,助詞,終助詞]\n",
      "、 [、,記号,読点]\n",
      "、 [、,記号,読点]\n",
      "AI [*,名詞,一般]\n",
      "〈 [〈,記号,括弧開]\n",
      "エーアイ [*,名詞,固有名詞]\n",
      "〉 [〉,記号,括弧閉]\n",
      "） [）,記号,括弧閉]\n",
      "と [と,助詞,格助詞]\n",
      "は [は,助詞,係助詞]\n",
      "、 [、,記号,読点]\n",
      "「 [「,記号,括弧開]\n",
      "『 [『,記号,括弧開]\n",
      "計算 [計算,名詞,サ変接続]\n",
      "（ [（,記号,括弧開]\n",
      "） [）,記号,括弧閉]\n",
      "』 [』,記号,括弧閉]\n",
      "という [という,助詞,格助詞]\n",
      "概念 [概念,名詞,一般]\n",
      "と [と,助詞,並立助詞]\n",
      "『 [『,記号,括弧開]\n",
      "コンピュータ [コンピュータ,名詞,一般]\n",
      "（ [（,記号,括弧開]\n",
      "） [）,記号,括弧閉]\n",
      "』 [』,記号,括弧閉]\n",
      "という [という,助詞,格助詞]\n",
      "道具 [道具,名詞,一般]\n",
      "を [を,助詞,格助詞]\n",
      "用い [用いる,動詞,自立]\n",
      "て [て,助詞,接続助詞]\n",
      "『 [『,記号,括弧開]\n",
      "知能 [知能,名詞,一般]\n",
      "』 [』,記号,括弧閉]\n",
      "を [を,助詞,格助詞]\n",
      "研究 [研究,名詞,サ変接続]\n",
      "する [する,動詞,自立]\n",
      "計算 [計算,名詞,サ変接続]\n",
      "機 [機,名詞,接尾]\n",
      "科学 [科学,名詞,一般]\n",
      "（ [（,記号,括弧開]\n",
      "） [）,記号,括弧閉]\n",
      "の [の,助詞,連体化]\n",
      "一 [一,名詞,数]\n",
      "分野 [分野,名詞,一般]\n",
      "」 [」,記号,括弧閉]\n",
      "を [を,助詞,格助詞]\n",
      "指す [指す,動詞,自立]\n",
      "語 [語,名詞,一般]\n",
      "。 [。,記号,句点]\n",
      "「 [「,記号,括弧開]\n",
      "言語 [言語,名詞,一般]\n",
      "の [の,助詞,連体化]\n",
      "理解 [理解,名詞,サ変接続]\n",
      "や [や,助詞,並立助詞]\n",
      "推論 [推論,名詞,サ変接続]\n",
      "、 [、,記号,読点]\n",
      "問題 [問題,名詞,ナイ形容詞語幹]\n",
      "解決 [解決,名詞,サ変接続]\n",
      "など [など,助詞,副助詞]\n",
      "の [の,助詞,連体化]\n",
      "知的 [知的,名詞,一般]\n",
      "行動 [行動,名詞,サ変接続]\n",
      "を [を,助詞,格助詞]\n",
      "人間 [人間,名詞,一般]\n",
      "に [に,助詞,格助詞]\n",
      "代わっ [代わる,動詞,自立]\n",
      "て [て,助詞,接続助詞]\n",
      "コンピューター [コンピューター,名詞,一般]\n",
      "に [に,助詞,格助詞]\n",
      "行わ [行う,動詞,自立]\n",
      "せる [せる,動詞,接尾]\n",
      "技術 [技術,名詞,一般]\n",
      "」 [」,記号,括弧閉]\n",
      "、 [、,記号,読点]\n",
      "または [または,接続詞,*]\n",
      "、 [、,記号,読点]\n",
      "「 [「,記号,括弧開]\n",
      "計算 [計算,名詞,サ変接続]\n",
      "機 [機,名詞,接尾]\n",
      "（ [（,記号,括弧開]\n",
      "コンピュータ [コンピュータ,名詞,一般]\n",
      "） [）,記号,括弧閉]\n",
      "による [による,助詞,格助詞]\n",
      "知的 [知的,名詞,形容動詞語幹]\n",
      "な [だ,助動詞,*]\n",
      "情報処理 [情報処理,名詞,一般]\n",
      "システム [システム,名詞,一般]\n",
      "の [の,助詞,連体化]\n",
      "設計 [設計,名詞,サ変接続]\n",
      "や [や,助詞,並立助詞]\n",
      "実現 [実現,名詞,サ変接続]\n",
      "に関する [に関する,助詞,格助詞]\n",
      "研究 [研究,名詞,サ変接続]\n",
      "分野 [分野,名詞,一般]\n",
      "」 [」,記号,括弧閉]\n",
      "と [と,助詞,格助詞]\n",
      "も [も,助詞,係助詞]\n",
      "さ [する,動詞,自立]\n",
      "れる [れる,動詞,接尾]\n",
      "。 [。,記号,句点]\n"
     ]
    }
   ],
   "source": [
    "print(*sentences_morph[1], sep='\\n')"
   ]
  },
  {
   "cell_type": "code",
   "execution_count": 7,
   "metadata": {},
   "outputs": [
    {
     "name": "stdout",
     "output_type": "stream",
     "text": [
      "\"人工 知能\" dst:17, srcs:[]\n",
      "\"（ じん こうち のう 、 、\" dst:17, srcs:[]\n",
      "\"AI\" dst:3, srcs:[]\n",
      "\"〈 エーアイ 〉 ） と は 、\" dst:17, srcs:[2]\n",
      "\"「 『 計算\" dst:5, srcs:[]\n",
      "\"（ ） 』 という\" dst:9, srcs:[4]\n",
      "\"概念 と\" dst:9, srcs:[]\n",
      "\"『 コンピュータ\" dst:8, srcs:[]\n",
      "\"（ ） 』 という\" dst:9, srcs:[7]\n",
      "\"道具 を\" dst:10, srcs:[5, 6, 8]\n",
      "\"用い て\" dst:12, srcs:[9]\n",
      "\"『 知能 』 を\" dst:12, srcs:[]\n",
      "\"研究 する\" dst:13, srcs:[10, 11]\n",
      "\"計算 機 科学\" dst:14, srcs:[12]\n",
      "\"（ ） の\" dst:15, srcs:[13]\n",
      "\"一 分野 」 を\" dst:16, srcs:[14]\n",
      "\"指す\" dst:17, srcs:[15]\n",
      "\"語 。\" dst:34, srcs:[0, 1, 3, 16]\n",
      "\"「 言語 の\" dst:20, srcs:[]\n",
      "\"理解 や\" dst:20, srcs:[]\n",
      "\"推論 、\" dst:21, srcs:[18, 19]\n",
      "\"問題 解決 など の\" dst:22, srcs:[20]\n",
      "\"知的 行動 を\" dst:24, srcs:[21]\n",
      "\"人間 に\" dst:24, srcs:[]\n",
      "\"代わっ て\" dst:26, srcs:[22, 23]\n",
      "\"コンピューター に\" dst:26, srcs:[]\n",
      "\"行わ せる\" dst:27, srcs:[24, 25]\n",
      "\"技術 」 、 または 、\" dst:34, srcs:[26]\n",
      "\"「 計算 機\" dst:29, srcs:[]\n",
      "\"（ コンピュータ ） による\" dst:31, srcs:[28]\n",
      "\"知的 な\" dst:31, srcs:[]\n",
      "\"情報処理 システム の\" dst:33, srcs:[29, 30]\n",
      "\"設計 や\" dst:33, srcs:[]\n",
      "\"実現 に関する\" dst:34, srcs:[31, 32]\n",
      "\"研究 分野 」 と も\" dst:35, srcs:[17, 27, 33]\n",
      "\"さ れる 。\" dst:-1, srcs:[35]\n"
     ]
    }
   ],
   "source": [
    "print(*sentences_chunk[1], sep='\\n')"
   ]
  },
  {
   "cell_type": "code",
   "execution_count": 8,
   "metadata": {},
   "outputs": [
    {
     "name": "stdout",
     "output_type": "stream",
     "text": [
      "人工知能\t語\n",
      "じんこうちのう\t語\n",
      "AI\tエーアイとは\n",
      "エーアイとは\t語\n",
      "計算\tという\n",
      "という\t道具を\n",
      "概念と\t道具を\n",
      "コンピュータ\tという\n",
      "という\t道具を\n",
      "道具を\t用いて\n",
      "用いて\t研究する\n",
      "知能を\t研究する\n",
      "研究する\t計算機科学\n",
      "計算機科学\tの\n",
      "の\t一分野を\n",
      "一分野を\t指す\n",
      "指す\t語\n",
      "語\t研究分野とも\n",
      "言語の\t推論\n",
      "理解や\t推論\n",
      "推論\t問題解決などの\n",
      "問題解決などの\t知的行動を\n",
      "知的行動を\t代わって\n",
      "人間に\t代わって\n",
      "代わって\t行わせる\n",
      "コンピューターに\t行わせる\n",
      "行わせる\t技術または\n",
      "技術または\t研究分野とも\n",
      "計算機\tコンピュータによる\n",
      "コンピュータによる\t情報処理システムの\n",
      "知的な\t情報処理システムの\n",
      "情報処理システムの\t実現に関する\n",
      "設計や\t実現に関する\n",
      "実現に関する\t研究分野とも\n",
      "研究分野とも\tされる\n"
     ]
    }
   ],
   "source": [
    "sent_chunks = sentences_chunk[1]  # 2文目のみ処理\n",
    "id2chunk = {chunk.cid: chunk for chunk in sent_chunks}\n",
    "\n",
    "for chunk in sent_chunks:\n",
    "    if chunk.dst == -1:\n",
    "        continue\n",
    "    src = ''.join((m.surface if m.pos != '記号' else '' for m in chunk.morphs))\n",
    "    dst_chunk = id2chunk[chunk.dst]\n",
    "    dst = ''.join((m.surface if m.pos != '記号' else '' for m in dst_chunk.morphs))\n",
    "    print(f'{src}\\t{dst}')"
   ]
  },
  {
   "cell_type": "code",
   "execution_count": 9,
   "metadata": {},
   "outputs": [
    {
     "name": "stdout",
     "output_type": "stream",
     "text": [
      "道具を\t用いて\n",
      "知能を\t研究する\n",
      "一分野を\t指す\n",
      "知的行動を\t代わって\n",
      "人間に\t代わって\n",
      "コンピューターに\t行わせる\n",
      "研究分野とも\tされる\n"
     ]
    }
   ],
   "source": [
    "for chunk in sent_chunks:\n",
    "    if chunk.dst == -1:\n",
    "        continue\n",
    "    if '名詞' not in [m.pos for m in chunk.morphs]:\n",
    "        continue\n",
    "    src = ''.join((m.surface if m.pos != '記号' else '' for m in chunk.morphs))\n",
    "    dst_chunk = id2chunk[chunk.dst]\n",
    "    if '動詞' not in [m.pos for m in dst_chunk.morphs]:\n",
    "        continue\n",
    "    dst = ''.join((m.surface if m.pos != '記号' else '' for m in dst_chunk.morphs))\n",
    "    print(f'{src}\\t{dst}')"
   ]
  },
  {
   "cell_type": "code",
   "execution_count": null,
   "metadata": {},
   "outputs": [],
   "source": []
  }
 ],
 "metadata": {
  "interpreter": {
   "hash": "98b0a9b7b4eaaa670588a142fd0a9b87eaafe866f1db4228be72b4211d12040f"
  },
  "kernelspec": {
   "display_name": "Python 3.9.4 64-bit ('local')",
   "name": "python394jvsc74a57bd0aee8b7b246df8f9039afb4144a1f6fd8d2ca17a180786b69acc140d282b71a49"
  },
  "language_info": {
   "codemirror_mode": {
    "name": "ipython",
    "version": 3
   },
   "file_extension": ".py",
   "mimetype": "text/x-python",
   "name": "python",
   "nbconvert_exporter": "python",
   "pygments_lexer": "ipython3",
   "version": "3.9.4"
  },
  "metadata": {
   "interpreter": {
    "hash": "aee8b7b246df8f9039afb4144a1f6fd8d2ca17a180786b69acc140d282b71a49"
   }
  },
  "orig_nbformat": 4
 },
 "nbformat": 4,
 "nbformat_minor": 2
}